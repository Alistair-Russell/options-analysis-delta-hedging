{
 "cells": [
  {
   "cell_type": "code",
   "execution_count": 2,
   "id": "c90c6ba6-7bb6-420c-acde-b55ab61f7c1e",
   "metadata": {},
   "outputs": [],
   "source": [
    "from ib_insync import *\n",
    "util.startLoop()\n",
    "\n",
    "from deltahedge import DeltaHedgeAlgo\n",
    "from vixfutures import VIXFuturesHedgeAlgo\n",
    "from pairstrading import PairsTradingAlgo"
   ]
  },
  {
   "cell_type": "markdown",
   "id": "f905b9c5-f77c-4015-b7ae-017b12822762",
   "metadata": {},
   "source": [
    "### Options Trading - Delta Hedging"
   ]
  },
  {
   "cell_type": "code",
   "execution_count": 6,
   "id": "266a6e10-d4a1-4283-80ed-4d2500eb26ce",
   "metadata": {},
   "outputs": [
    {
     "name": "stdout",
     "output_type": "stream",
     "text": [
      "[DRYRUN] delta neutral is: SPY 29\n",
      "[DRYRUN] trade would have been: SPY 17.0\n"
     ]
    },
    {
     "data": {
      "text/plain": [
       "[Position(account='DU6066633', contract=Stock(conId=756733, symbol='SPY', exchange='ARCA', currency='USD', localSymbol='SPY', tradingClass='SPY'), position=12.0, avgCost=362.896925),\n",
       " Position(account='DU6066633', contract=Option(conId=564970818, symbol='SPY', lastTradeDateOrContractMonth='20221021', strike=390.0, right='C', multiplier='100', exchange='SMART', currency='USD', localSymbol='SPY   221021C00390000', tradingClass='SPY'), position=-10.0, avgCost=1255.26991)]"
      ]
     },
     "execution_count": 6,
     "metadata": {},
     "output_type": "execute_result"
    }
   ],
   "source": [
    "# initialize the delta hedge algorithm\n",
    "DeltaHedge = DeltaHedgeAlgo(\"SPY\", client_id=1)\n",
    "\n",
    "pos = DeltaHedge.rebalance(dryrun=True)\n",
    "[p for p in pos if p.contract.symbol == \"SPY\"]"
   ]
  },
  {
   "cell_type": "code",
   "execution_count": 7,
   "id": "effe0d48-5650-4f02-ab39-43294f26a3ba",
   "metadata": {},
   "outputs": [
    {
     "data": {
      "text/plain": [
       "[Position(account='DU6066633', contract=Stock(conId=756733, symbol='SPY', exchange='ARCA', currency='USD', localSymbol='SPY', tradingClass='SPY'), position=29.0, avgCost=365.0501068965517),\n",
       " Position(account='DU6066633', contract=Option(conId=564970818, symbol='SPY', lastTradeDateOrContractMonth='20221021', strike=390.0, right='C', multiplier='100', exchange='SMART', currency='USD', localSymbol='SPY   221021C00390000', tradingClass='SPY'), position=-10.0, avgCost=1255.26991)]"
      ]
     },
     "execution_count": 7,
     "metadata": {},
     "output_type": "execute_result"
    }
   ],
   "source": [
    "# rebalance and print positions \n",
    "pos = DeltaHedge.rebalance()\n",
    "[p for p in pos if p.contract.symbol == \"SPY\"]"
   ]
  },
  {
   "cell_type": "code",
   "execution_count": 8,
   "id": "8598ce2f-4a51-43ef-964e-a0ed2d927bd5",
   "metadata": {},
   "outputs": [],
   "source": [
    "# cleanup\n",
    "DeltaHedge.ibconn.disconnect()"
   ]
  },
  {
   "cell_type": "markdown",
   "id": "6fa3c049-58d2-414e-9bf3-54b5aef2680d",
   "metadata": {},
   "source": [
    "### VIX Futures Hedging"
   ]
  },
  {
   "cell_type": "code",
   "execution_count": 13,
   "id": "5f13d68e-bce6-4d52-896a-aa3a5681f496",
   "metadata": {},
   "outputs": [],
   "source": [
    "# initialize vix futures algorithm\n",
    "vixf_date, esf_date = \"20221116\", \"20221216\"\n",
    "VIXHedge = VIXFuturesHedgeAlgo(vixf_date, esf_date, client_id=2)"
   ]
  },
  {
   "cell_type": "code",
   "execution_count": 14,
   "id": "42f065cd-16ad-47fd-b864-ac3c2fd0960b",
   "metadata": {},
   "outputs": [
    {
     "name": "stdout",
     "output_type": "stream",
     "text": [
      "No positions to exit.\n"
     ]
    }
   ],
   "source": [
    "# exit any valid positions\n",
    "VIXHedge.exit_positions()"
   ]
  },
  {
   "cell_type": "code",
   "execution_count": 15,
   "id": "99c49df3-0ffa-45a4-a6f7-e244b560ddf6",
   "metadata": {},
   "outputs": [
    {
     "name": "stdout",
     "output_type": "stream",
     "text": [
      "Signal is -0.03571428571428581 and daily roll is -2.0853333283447132e-10. No action taken.\n"
     ]
    }
   ],
   "source": [
    "# attempt to enter the VIX futures position\n",
    "VIXHedge.enter_positions(10)"
   ]
  },
  {
   "cell_type": "code",
   "execution_count": 16,
   "id": "dfaabd80-5fff-48e7-9b42-1e34dbce839b",
   "metadata": {},
   "outputs": [],
   "source": [
    "# cleanup\n",
    "VIXHedge.ibconn.disconnect()"
   ]
  },
  {
   "cell_type": "markdown",
   "id": "c95953be-929b-479f-9334-302b6f39094f",
   "metadata": {},
   "source": [
    "### Pairs Trading"
   ]
  },
  {
   "cell_type": "code",
   "execution_count": 17,
   "id": "9f5db061-e8e5-452b-8a2c-35c4f1561008",
   "metadata": {},
   "outputs": [
    {
     "name": "stdout",
     "output_type": "stream",
     "text": [
      "Pairs data found in csv file.\n"
     ]
    },
    {
     "data": {
      "text/html": [
       "<div>\n",
       "<style scoped>\n",
       "    .dataframe tbody tr th:only-of-type {\n",
       "        vertical-align: middle;\n",
       "    }\n",
       "\n",
       "    .dataframe tbody tr th {\n",
       "        vertical-align: top;\n",
       "    }\n",
       "\n",
       "    .dataframe thead th {\n",
       "        text-align: right;\n",
       "    }\n",
       "</style>\n",
       "<table border=\"1\" class=\"dataframe\">\n",
       "  <thead>\n",
       "    <tr style=\"text-align: right;\">\n",
       "      <th></th>\n",
       "      <th>pair</th>\n",
       "      <th>hedge_ratio</th>\n",
       "      <th>spread_mean</th>\n",
       "      <th>spread_std</th>\n",
       "    </tr>\n",
       "  </thead>\n",
       "  <tbody>\n",
       "    <tr>\n",
       "      <th>0</th>\n",
       "      <td>('BAC', 'STT')</td>\n",
       "      <td>0.835780</td>\n",
       "      <td>-0.000180</td>\n",
       "      <td>0.025364</td>\n",
       "    </tr>\n",
       "    <tr>\n",
       "      <th>1</th>\n",
       "      <td>('MMM', 'ALLE')</td>\n",
       "      <td>1.059201</td>\n",
       "      <td>-0.000058</td>\n",
       "      <td>0.035957</td>\n",
       "    </tr>\n",
       "    <tr>\n",
       "      <th>2</th>\n",
       "      <td>('AME', 'APH')</td>\n",
       "      <td>1.124370</td>\n",
       "      <td>0.000275</td>\n",
       "      <td>0.033541</td>\n",
       "    </tr>\n",
       "    <tr>\n",
       "      <th>3</th>\n",
       "      <td>('CARR', 'FRC')</td>\n",
       "      <td>0.737416</td>\n",
       "      <td>-0.000795</td>\n",
       "      <td>0.050381</td>\n",
       "    </tr>\n",
       "    <tr>\n",
       "      <th>4</th>\n",
       "      <td>('ADI', 'TMO')</td>\n",
       "      <td>0.800082</td>\n",
       "      <td>-0.000036</td>\n",
       "      <td>0.035627</td>\n",
       "    </tr>\n",
       "    <tr>\n",
       "      <th>5</th>\n",
       "      <td>('AMGN', 'WEC')</td>\n",
       "      <td>1.187299</td>\n",
       "      <td>0.000121</td>\n",
       "      <td>0.037344</td>\n",
       "    </tr>\n",
       "    <tr>\n",
       "      <th>6</th>\n",
       "      <td>('BDX', 'PEG')</td>\n",
       "      <td>1.319306</td>\n",
       "      <td>0.000434</td>\n",
       "      <td>0.043917</td>\n",
       "    </tr>\n",
       "    <tr>\n",
       "      <th>7</th>\n",
       "      <td>('ATO', 'ED')</td>\n",
       "      <td>1.041530</td>\n",
       "      <td>0.000268</td>\n",
       "      <td>0.030733</td>\n",
       "    </tr>\n",
       "    <tr>\n",
       "      <th>8</th>\n",
       "      <td>('ADP', 'AJG')</td>\n",
       "      <td>1.057041</td>\n",
       "      <td>0.000098</td>\n",
       "      <td>0.038074</td>\n",
       "    </tr>\n",
       "    <tr>\n",
       "      <th>9</th>\n",
       "      <td>('BAX', 'WBA')</td>\n",
       "      <td>1.132904</td>\n",
       "      <td>0.000615</td>\n",
       "      <td>0.049036</td>\n",
       "    </tr>\n",
       "    <tr>\n",
       "      <th>10</th>\n",
       "      <td>('AWK', 'TXN')</td>\n",
       "      <td>0.978532</td>\n",
       "      <td>0.000093</td>\n",
       "      <td>0.040995</td>\n",
       "    </tr>\n",
       "    <tr>\n",
       "      <th>11</th>\n",
       "      <td>('ANSS', 'BLK')</td>\n",
       "      <td>0.866572</td>\n",
       "      <td>-0.001062</td>\n",
       "      <td>0.064909</td>\n",
       "    </tr>\n",
       "    <tr>\n",
       "      <th>12</th>\n",
       "      <td>('CB', 'TRV')</td>\n",
       "      <td>1.033365</td>\n",
       "      <td>0.000100</td>\n",
       "      <td>0.020935</td>\n",
       "    </tr>\n",
       "    <tr>\n",
       "      <th>13</th>\n",
       "      <td>('AMP', 'RF')</td>\n",
       "      <td>1.822942</td>\n",
       "      <td>0.001442</td>\n",
       "      <td>0.070639</td>\n",
       "    </tr>\n",
       "    <tr>\n",
       "      <th>14</th>\n",
       "      <td>('AIG', 'BSX')</td>\n",
       "      <td>1.080405</td>\n",
       "      <td>0.000147</td>\n",
       "      <td>0.044607</td>\n",
       "    </tr>\n",
       "    <tr>\n",
       "      <th>15</th>\n",
       "      <td>('AXP', 'PRU')</td>\n",
       "      <td>1.097027</td>\n",
       "      <td>0.000029</td>\n",
       "      <td>0.035226</td>\n",
       "    </tr>\n",
       "    <tr>\n",
       "      <th>16</th>\n",
       "      <td>('ADBE', 'KMX')</td>\n",
       "      <td>1.314480</td>\n",
       "      <td>0.001351</td>\n",
       "      <td>0.066315</td>\n",
       "    </tr>\n",
       "  </tbody>\n",
       "</table>\n",
       "</div>"
      ],
      "text/plain": [
       "               pair  hedge_ratio  spread_mean  spread_std\n",
       "0    ('BAC', 'STT')     0.835780    -0.000180    0.025364\n",
       "1   ('MMM', 'ALLE')     1.059201    -0.000058    0.035957\n",
       "2    ('AME', 'APH')     1.124370     0.000275    0.033541\n",
       "3   ('CARR', 'FRC')     0.737416    -0.000795    0.050381\n",
       "4    ('ADI', 'TMO')     0.800082    -0.000036    0.035627\n",
       "5   ('AMGN', 'WEC')     1.187299     0.000121    0.037344\n",
       "6    ('BDX', 'PEG')     1.319306     0.000434    0.043917\n",
       "7     ('ATO', 'ED')     1.041530     0.000268    0.030733\n",
       "8    ('ADP', 'AJG')     1.057041     0.000098    0.038074\n",
       "9    ('BAX', 'WBA')     1.132904     0.000615    0.049036\n",
       "10   ('AWK', 'TXN')     0.978532     0.000093    0.040995\n",
       "11  ('ANSS', 'BLK')     0.866572    -0.001062    0.064909\n",
       "12    ('CB', 'TRV')     1.033365     0.000100    0.020935\n",
       "13    ('AMP', 'RF')     1.822942     0.001442    0.070639\n",
       "14   ('AIG', 'BSX')     1.080405     0.000147    0.044607\n",
       "15   ('AXP', 'PRU')     1.097027     0.000029    0.035226\n",
       "16  ('ADBE', 'KMX')     1.314480     0.001351    0.066315"
      ]
     },
     "execution_count": 17,
     "metadata": {},
     "output_type": "execute_result"
    }
   ],
   "source": [
    "# initiate a new pairs trading algorithm instance, print pairs data\n",
    "PairsTrade = PairsTradingAlgo(client_id=3)\n",
    "PairsTrade.data"
   ]
  },
  {
   "cell_type": "code",
   "execution_count": 18,
   "id": "5777f626-48ac-4e41-87a5-6339aacc545d",
   "metadata": {},
   "outputs": [
    {
     "name": "stdout",
     "output_type": "stream",
     "text": [
      "Zscore is 1.5485229760852426 - shorting ('BAC', 'STT') spread with allocation of 699.0\n",
      "Zscore is -1.905931015344425 - no action for ('MMM', 'ALLE') spread...\n",
      "Can't find last price for one of ('AME', 'APH'). Skipping.\n",
      "Zscore is 0.7593301920263672 - no action for ('CARR', 'FRC') spread...\n",
      "Zscore is -1.8373594309515642 - no action for ('ADI', 'TMO') spread...\n",
      "Zscore is 6.280246094495689 - no action for ('AMGN', 'WEC') spread...\n",
      "Zscore is 2.940828369553898 - no action for ('BDX', 'PEG') spread...\n",
      "Can't find last price for one of ('ATO', 'ED'). Skipping.\n",
      "Zscore is -0.26689284068813696 - no action for ('ADP', 'AJG') spread...\n",
      "Can't find last price for one of ('BAX', 'WBA'). Skipping.\n",
      "Zscore is -0.6778016324740938 - closing ('AWK', 'TXN') positions...\n",
      "Zscore is -0.6778016324740938 - closing ('AWK', 'TXN') positions...\n"
     ]
    },
    {
     "name": "stderr",
     "output_type": "stream",
     "text": [
      "Error 200, reqId 51: No security definition has been found for the request\n",
      "Canceled order: Trade(contract=Stock(conId=13096, symbol='TXN', exchange='NASDAQ', currency='USD', localSymbol='TXN', tradingClass='NMS'), order=MarketOrder(orderId=51, clientId=3, action='BUY', totalQuantity=187.0), orderStatus=OrderStatus(orderId=51, status='Cancelled', filled=0.0, remaining=0.0, avgFillPrice=0.0, permId=0, parentId=0, lastFillPrice=0.0, clientId=0, whyHeld='', mktCapPrice=0.0), fills=[], log=[TradeLogEntry(time=datetime.datetime(2022, 10, 17, 16, 27, 6, 606510, tzinfo=datetime.timezone.utc), status='PendingSubmit', message='', errorCode=0), TradeLogEntry(time=datetime.datetime(2022, 10, 17, 16, 27, 7, 48419, tzinfo=datetime.timezone.utc), status='Cancelled', message='Error 200, reqId 51: No security definition has been found for the request', errorCode=200)])\n"
     ]
    },
    {
     "name": "stdout",
     "output_type": "stream",
     "text": [
      "Zscore is -2.1601974597178994 - no action for ('ANSS', 'BLK') spread...\n",
      "Zscore is -0.6831353339197579 - no action for ('CB', 'TRV') spread...\n",
      "Zscore is 0.20741832870750254 - no action for ('AMP', 'RF') spread...\n",
      "Zscore is -1.3449372268639745 - no action for ('AIG', 'BSX') spread...\n",
      "Zscore is -1.4287933565529318 - no action for ('AXP', 'PRU') spread...\n",
      "Zscore is 3.7752636810501543 - no action for ('ADBE', 'KMX') spread...\n"
     ]
    }
   ],
   "source": [
    "# rebalance the pairs\n",
    "PairsTrade.rebalance()"
   ]
  },
  {
   "cell_type": "code",
   "execution_count": 19,
   "id": "803fbcc6-1dec-4175-a8e5-a332f5149b8e",
   "metadata": {},
   "outputs": [
    {
     "data": {
      "text/html": [
       "<div>\n",
       "<style scoped>\n",
       "    .dataframe tbody tr th:only-of-type {\n",
       "        vertical-align: middle;\n",
       "    }\n",
       "\n",
       "    .dataframe tbody tr th {\n",
       "        vertical-align: top;\n",
       "    }\n",
       "\n",
       "    .dataframe thead th {\n",
       "        text-align: right;\n",
       "    }\n",
       "</style>\n",
       "<table border=\"1\" class=\"dataframe\">\n",
       "  <thead>\n",
       "    <tr style=\"text-align: right;\">\n",
       "      <th></th>\n",
       "      <th>account</th>\n",
       "      <th>contract</th>\n",
       "      <th>position</th>\n",
       "      <th>avgCost</th>\n",
       "    </tr>\n",
       "  </thead>\n",
       "  <tbody>\n",
       "    <tr>\n",
       "      <th>0</th>\n",
       "      <td>DU6066633</td>\n",
       "      <td>Stock(conId=4886, symbol='BDX', exchange='NYSE...</td>\n",
       "      <td>-110.0</td>\n",
       "      <td>220.476639</td>\n",
       "    </tr>\n",
       "    <tr>\n",
       "      <th>1</th>\n",
       "      <td>DU6066633</td>\n",
       "      <td>Stock(conId=5270, symbol='BSX', exchange='NYSE...</td>\n",
       "      <td>-543.0</td>\n",
       "      <td>39.673961</td>\n",
       "    </tr>\n",
       "    <tr>\n",
       "      <th>2</th>\n",
       "      <td>DU6066633</td>\n",
       "      <td>Stock(conId=12869, symbol='TMO', exchange='NYS...</td>\n",
       "      <td>-140.0</td>\n",
       "      <td>512.492419</td>\n",
       "    </tr>\n",
       "    <tr>\n",
       "      <th>3</th>\n",
       "      <td>DU6066633</td>\n",
       "      <td>Stock(conId=2586156, symbol='KMX', exchange='N...</td>\n",
       "      <td>111.0</td>\n",
       "      <td>63.819009</td>\n",
       "    </tr>\n",
       "    <tr>\n",
       "      <th>4</th>\n",
       "      <td>DU6066633</td>\n",
       "      <td>Stock(conId=4721, symbol='AXP', exchange='NYSE...</td>\n",
       "      <td>162.0</td>\n",
       "      <td>137.970000</td>\n",
       "    </tr>\n",
       "    <tr>\n",
       "      <th>5</th>\n",
       "      <td>DU6066633</td>\n",
       "      <td>Stock(conId=61319701, symbol='AIG', exchange='...</td>\n",
       "      <td>502.0</td>\n",
       "      <td>48.801016</td>\n",
       "    </tr>\n",
       "    <tr>\n",
       "      <th>6</th>\n",
       "      <td>DU6066633</td>\n",
       "      <td>Stock(conId=756733, symbol='SPY', exchange='AR...</td>\n",
       "      <td>29.0</td>\n",
       "      <td>365.084590</td>\n",
       "    </tr>\n",
       "    <tr>\n",
       "      <th>7</th>\n",
       "      <td>DU6066633</td>\n",
       "      <td>Stock(conId=9720, symbol='MMM', exchange='NYSE...</td>\n",
       "      <td>227.0</td>\n",
       "      <td>107.895000</td>\n",
       "    </tr>\n",
       "    <tr>\n",
       "      <th>8</th>\n",
       "      <td>DU6066633</td>\n",
       "      <td>Stock(conId=198560237, symbol='WEC', exchange=...</td>\n",
       "      <td>124.0</td>\n",
       "      <td>86.298064</td>\n",
       "    </tr>\n",
       "    <tr>\n",
       "      <th>9</th>\n",
       "      <td>DU6066633</td>\n",
       "      <td>Stock(conId=5049, symbol='BLK', exchange='NYSE...</td>\n",
       "      <td>-101.0</td>\n",
       "      <td>545.107287</td>\n",
       "    </tr>\n",
       "    <tr>\n",
       "      <th>10</th>\n",
       "      <td>DU6066633</td>\n",
       "      <td>Stock(conId=4157, symbol='ADI', exchange='NASD...</td>\n",
       "      <td>174.0</td>\n",
       "      <td>140.505747</td>\n",
       "    </tr>\n",
       "    <tr>\n",
       "      <th>11</th>\n",
       "      <td>DU6066633</td>\n",
       "      <td>Stock(conId=11005, symbol='PEG', exchange='NYS...</td>\n",
       "      <td>145.0</td>\n",
       "      <td>55.576897</td>\n",
       "    </tr>\n",
       "    <tr>\n",
       "      <th>12</th>\n",
       "      <td>DU6066633</td>\n",
       "      <td>Stock(conId=266145, symbol='AMGN', exchange='N...</td>\n",
       "      <td>-105.0</td>\n",
       "      <td>232.235028</td>\n",
       "    </tr>\n",
       "    <tr>\n",
       "      <th>13</th>\n",
       "      <td>DU6066633</td>\n",
       "      <td>Stock(conId=138438437, symbol='ALLE', exchange...</td>\n",
       "      <td>-241.0</td>\n",
       "      <td>91.522774</td>\n",
       "    </tr>\n",
       "    <tr>\n",
       "      <th>14</th>\n",
       "      <td>DU6066633</td>\n",
       "      <td>Stock(conId=4726368, symbol='ANSS', exchange='...</td>\n",
       "      <td>116.0</td>\n",
       "      <td>210.458621</td>\n",
       "    </tr>\n",
       "    <tr>\n",
       "      <th>15</th>\n",
       "      <td>DU6066633</td>\n",
       "      <td>Stock(conId=13865082, symbol='PRU', exchange='...</td>\n",
       "      <td>-178.0</td>\n",
       "      <td>94.522087</td>\n",
       "    </tr>\n",
       "    <tr>\n",
       "      <th>16</th>\n",
       "      <td>DU6066633</td>\n",
       "      <td>Stock(conId=265768, symbol='ADBE', exchange='N...</td>\n",
       "      <td>-85.0</td>\n",
       "      <td>284.811582</td>\n",
       "    </tr>\n",
       "    <tr>\n",
       "      <th>17</th>\n",
       "      <td>DU6066633</td>\n",
       "      <td>Option(conId=564970818, symbol='SPY', lastTrad...</td>\n",
       "      <td>-10.0</td>\n",
       "      <td>1255.269910</td>\n",
       "    </tr>\n",
       "    <tr>\n",
       "      <th>18</th>\n",
       "      <td>DU6066633</td>\n",
       "      <td>Stock(conId=10098, symbol='BAC', exchange='NYS...</td>\n",
       "      <td>-699.0</td>\n",
       "      <td>33.346967</td>\n",
       "    </tr>\n",
       "    <tr>\n",
       "      <th>19</th>\n",
       "      <td>DU6066633</td>\n",
       "      <td>Stock(conId=2730980, symbol='STT', exchange='N...</td>\n",
       "      <td>584.0</td>\n",
       "      <td>63.585000</td>\n",
       "    </tr>\n",
       "  </tbody>\n",
       "</table>\n",
       "</div>"
      ],
      "text/plain": [
       "      account                                           contract  position  \\\n",
       "0   DU6066633  Stock(conId=4886, symbol='BDX', exchange='NYSE...    -110.0   \n",
       "1   DU6066633  Stock(conId=5270, symbol='BSX', exchange='NYSE...    -543.0   \n",
       "2   DU6066633  Stock(conId=12869, symbol='TMO', exchange='NYS...    -140.0   \n",
       "3   DU6066633  Stock(conId=2586156, symbol='KMX', exchange='N...     111.0   \n",
       "4   DU6066633  Stock(conId=4721, symbol='AXP', exchange='NYSE...     162.0   \n",
       "5   DU6066633  Stock(conId=61319701, symbol='AIG', exchange='...     502.0   \n",
       "6   DU6066633  Stock(conId=756733, symbol='SPY', exchange='AR...      29.0   \n",
       "7   DU6066633  Stock(conId=9720, symbol='MMM', exchange='NYSE...     227.0   \n",
       "8   DU6066633  Stock(conId=198560237, symbol='WEC', exchange=...     124.0   \n",
       "9   DU6066633  Stock(conId=5049, symbol='BLK', exchange='NYSE...    -101.0   \n",
       "10  DU6066633  Stock(conId=4157, symbol='ADI', exchange='NASD...     174.0   \n",
       "11  DU6066633  Stock(conId=11005, symbol='PEG', exchange='NYS...     145.0   \n",
       "12  DU6066633  Stock(conId=266145, symbol='AMGN', exchange='N...    -105.0   \n",
       "13  DU6066633  Stock(conId=138438437, symbol='ALLE', exchange...    -241.0   \n",
       "14  DU6066633  Stock(conId=4726368, symbol='ANSS', exchange='...     116.0   \n",
       "15  DU6066633  Stock(conId=13865082, symbol='PRU', exchange='...    -178.0   \n",
       "16  DU6066633  Stock(conId=265768, symbol='ADBE', exchange='N...     -85.0   \n",
       "17  DU6066633  Option(conId=564970818, symbol='SPY', lastTrad...     -10.0   \n",
       "18  DU6066633  Stock(conId=10098, symbol='BAC', exchange='NYS...    -699.0   \n",
       "19  DU6066633  Stock(conId=2730980, symbol='STT', exchange='N...     584.0   \n",
       "\n",
       "        avgCost  \n",
       "0    220.476639  \n",
       "1     39.673961  \n",
       "2    512.492419  \n",
       "3     63.819009  \n",
       "4    137.970000  \n",
       "5     48.801016  \n",
       "6    365.084590  \n",
       "7    107.895000  \n",
       "8     86.298064  \n",
       "9    545.107287  \n",
       "10   140.505747  \n",
       "11    55.576897  \n",
       "12   232.235028  \n",
       "13    91.522774  \n",
       "14   210.458621  \n",
       "15    94.522087  \n",
       "16   284.811582  \n",
       "17  1255.269910  \n",
       "18    33.346967  \n",
       "19    63.585000  "
      ]
     },
     "execution_count": 19,
     "metadata": {},
     "output_type": "execute_result"
    }
   ],
   "source": [
    "# print positions\n",
    "util.df(PairsTrade.ibconn.positions())"
   ]
  },
  {
   "cell_type": "code",
   "execution_count": 20,
   "id": "ff2e3090-af5f-492e-930f-06ca1d908471",
   "metadata": {},
   "outputs": [],
   "source": [
    "# cleanup\n",
    "PairsTrade.ibconn.disconnect()"
   ]
  }
 ],
 "metadata": {
  "kernelspec": {
   "display_name": "Python 3.9.12 ('ibkr_env': venv)",
   "language": "python",
   "name": "python3"
  },
  "language_info": {
   "codemirror_mode": {
    "name": "ipython",
    "version": 3
   },
   "file_extension": ".py",
   "mimetype": "text/x-python",
   "name": "python",
   "nbconvert_exporter": "python",
   "pygments_lexer": "ipython3",
   "version": "3.9.12"
  },
  "vscode": {
   "interpreter": {
    "hash": "4ae82d6772557206a20b5b1c955511bcd574119d1a64cb25ff88d6793250536d"
   }
  }
 },
 "nbformat": 4,
 "nbformat_minor": 5
}
