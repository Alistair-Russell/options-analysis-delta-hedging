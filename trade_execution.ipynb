{
 "cells": [
  {
   "cell_type": "code",
   "execution_count": 2,
   "id": "c90c6ba6-7bb6-420c-acde-b55ab61f7c1e",
   "metadata": {},
   "outputs": [],
   "source": [
    "from ib_insync import *\n",
    "util.startLoop()\n",
    "\n",
    "from delta_hedge import DeltaHedgeAlgo"
   ]
  },
  {
   "cell_type": "markdown",
   "id": "f905b9c5-f77c-4015-b7ae-017b12822762",
   "metadata": {},
   "source": [
    "### TA1 Delta Hedge"
   ]
  },
  {
   "cell_type": "code",
   "execution_count": 6,
   "id": "266a6e10-d4a1-4283-80ed-4d2500eb26ce",
   "metadata": {},
   "outputs": [
    {
     "name": "stdout",
     "output_type": "stream",
     "text": [
      "[DRYRUN] delta neutral is: SPY 29\n",
      "[DRYRUN] trade would have been: SPY 17.0\n"
     ]
    },
    {
     "data": {
      "text/plain": [
       "[Position(account='DU6066633', contract=Stock(conId=756733, symbol='SPY', exchange='ARCA', currency='USD', localSymbol='SPY', tradingClass='SPY'), position=12.0, avgCost=362.896925),\n",
       " Position(account='DU6066633', contract=Option(conId=564970818, symbol='SPY', lastTradeDateOrContractMonth='20221021', strike=390.0, right='C', multiplier='100', exchange='SMART', currency='USD', localSymbol='SPY   221021C00390000', tradingClass='SPY'), position=-10.0, avgCost=1255.26991)]"
      ]
     },
     "execution_count": 6,
     "metadata": {},
     "output_type": "execute_result"
    }
   ],
   "source": [
    "# initialize the delta hedge algorithm\n",
    "DeltaHedge = DeltaHedgeAlgo(\"SPY\", client_id=1)\n",
    "\n",
    "pos = DeltaHedge.rebalance(dryrun=True)\n",
    "[p for p in pos if p.contract.symbol == \"SPY\"]"
   ]
  },
  {
   "cell_type": "code",
   "execution_count": 7,
   "id": "effe0d48-5650-4f02-ab39-43294f26a3ba",
   "metadata": {},
   "outputs": [
    {
     "data": {
      "text/plain": [
       "[Position(account='DU6066633', contract=Stock(conId=756733, symbol='SPY', exchange='ARCA', currency='USD', localSymbol='SPY', tradingClass='SPY'), position=29.0, avgCost=365.0501068965517),\n",
       " Position(account='DU6066633', contract=Option(conId=564970818, symbol='SPY', lastTradeDateOrContractMonth='20221021', strike=390.0, right='C', multiplier='100', exchange='SMART', currency='USD', localSymbol='SPY   221021C00390000', tradingClass='SPY'), position=-10.0, avgCost=1255.26991)]"
      ]
     },
     "execution_count": 7,
     "metadata": {},
     "output_type": "execute_result"
    }
   ],
   "source": [
    "# rebalance and print positions \n",
    "pos = DeltaHedge.rebalance()\n",
    "[p for p in pos if p.contract.symbol == \"SPY\"]"
   ]
  },
  {
   "cell_type": "code",
   "execution_count": 8,
   "id": "8598ce2f-4a51-43ef-964e-a0ed2d927bd5",
   "metadata": {},
   "outputs": [],
   "source": [
    "# cleanup\n",
    "DeltaHedge.ibconn.disconnect()"
   ]
  }
 ],
 "metadata": {
  "kernelspec": {
   "display_name": "Python 3.9.12 ('ibkr_env': venv)",
   "language": "python",
   "name": "python3"
  },
  "language_info": {
   "codemirror_mode": {
    "name": "ipython",
    "version": 3
   },
   "file_extension": ".py",
   "mimetype": "text/x-python",
   "name": "python",
   "nbconvert_exporter": "python",
   "pygments_lexer": "ipython3",
   "version": "3.9.12"
  },
  "vscode": {
   "interpreter": {
    "hash": "4ae82d6772557206a20b5b1c955511bcd574119d1a64cb25ff88d6793250536d"
   }
  }
 },
 "nbformat": 4,
 "nbformat_minor": 5
}
